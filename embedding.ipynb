{
 "cells": [
  {
   "cell_type": "code",
   "execution_count": 1,
   "metadata": {},
   "outputs": [
    {
     "name": "stderr",
     "output_type": "stream",
     "text": [
      "2024-12-18 12:49:19.960941: I tensorflow/core/util/port.cc:153] oneDNN custom operations are on. You may see slightly different numerical results due to floating-point round-off errors from different computation orders. To turn them off, set the environment variable `TF_ENABLE_ONEDNN_OPTS=0`.\n",
      "2024-12-18 12:49:19.982823: I external/local_xla/xla/tsl/cuda/cudart_stub.cc:32] Could not find cuda drivers on your machine, GPU will not be used.\n",
      "2024-12-18 12:49:20.179923: I external/local_xla/xla/tsl/cuda/cudart_stub.cc:32] Could not find cuda drivers on your machine, GPU will not be used.\n",
      "2024-12-18 12:49:20.428026: E external/local_xla/xla/stream_executor/cuda/cuda_fft.cc:477] Unable to register cuFFT factory: Attempting to register factory for plugin cuFFT when one has already been registered\n",
      "WARNING: All log messages before absl::InitializeLog() is called are written to STDERR\n",
      "E0000 00:00:1734506360.593301   24803 cuda_dnn.cc:8310] Unable to register cuDNN factory: Attempting to register factory for plugin cuDNN when one has already been registered\n",
      "E0000 00:00:1734506360.634600   24803 cuda_blas.cc:1418] Unable to register cuBLAS factory: Attempting to register factory for plugin cuBLAS when one has already been registered\n",
      "2024-12-18 12:49:21.011621: I tensorflow/core/platform/cpu_feature_guard.cc:210] This TensorFlow binary is optimized to use available CPU instructions in performance-critical operations.\n",
      "To enable the following instructions: AVX2 AVX512F AVX512_VNNI FMA, in other operations, rebuild TensorFlow with the appropriate compiler flags.\n"
     ]
    }
   ],
   "source": [
    "from tensorflow.keras.preprocessing.text import one_hot"
   ]
  },
  {
   "cell_type": "code",
   "execution_count": 2,
   "metadata": {},
   "outputs": [],
   "source": [
    "### sentences\n",
    "sent=[  'the glass of milk',\n",
    "     'the glass of juice',\n",
    "     'the cup of tea',\n",
    "    'I am a good boy',\n",
    "     'I am a good developer',\n",
    "     'understand the meaning of words',\n",
    "     'your videos are good',]"
   ]
  },
  {
   "cell_type": "code",
   "execution_count": 3,
   "metadata": {},
   "outputs": [
    {
     "data": {
      "text/plain": [
       "['the glass of milk',\n",
       " 'the glass of juice',\n",
       " 'the cup of tea',\n",
       " 'I am a good boy',\n",
       " 'I am a good developer',\n",
       " 'understand the meaning of words',\n",
       " 'your videos are good']"
      ]
     },
     "execution_count": 3,
     "metadata": {},
     "output_type": "execute_result"
    }
   ],
   "source": [
    "sent"
   ]
  },
  {
   "cell_type": "code",
   "execution_count": 4,
   "metadata": {},
   "outputs": [],
   "source": [
    "## Define the vocabulary size\n",
    "voc_size=10000"
   ]
  },
  {
   "cell_type": "code",
   "execution_count": 5,
   "metadata": {},
   "outputs": [
    {
     "data": {
      "text/plain": [
       "['the glass of milk',\n",
       " 'the glass of juice',\n",
       " 'the cup of tea',\n",
       " 'I am a good boy',\n",
       " 'I am a good developer',\n",
       " 'understand the meaning of words',\n",
       " 'your videos are good']"
      ]
     },
     "execution_count": 5,
     "metadata": {},
     "output_type": "execute_result"
    }
   ],
   "source": [
    "sent"
   ]
  },
  {
   "cell_type": "code",
   "execution_count": 7,
   "metadata": {},
   "outputs": [
    {
     "data": {
      "text/plain": [
       "[[6706, 6837, 4247, 9343],\n",
       " [6706, 6837, 4247, 3791],\n",
       " [6706, 6544, 4247, 2300],\n",
       " [7003, 821, 2244, 2591, 9949],\n",
       " [7003, 821, 2244, 2591, 8976],\n",
       " [4514, 6706, 4946, 4247, 1241],\n",
       " [2202, 7876, 4048, 2591]]"
      ]
     },
     "execution_count": 7,
     "metadata": {},
     "output_type": "execute_result"
    }
   ],
   "source": [
    "### One Hot Representation\n",
    "one_hot_repr=[one_hot(words,voc_size)for words in sent]\n",
    "one_hot_repr"
   ]
  },
  {
   "cell_type": "code",
   "execution_count": 9,
   "metadata": {},
   "outputs": [],
   "source": [
    "## word Embedding Representation\n",
    "\n",
    "from tensorflow.keras.layers import Embedding\n",
    "#from tensorflow.keras.processing.sequence import pad_sequences\n",
    "from tensorflow.keras.utils import pad_sequences\n",
    "from tensorflow.keras.models import Sequential"
   ]
  },
  {
   "cell_type": "code",
   "execution_count": 10,
   "metadata": {},
   "outputs": [],
   "source": [
    "import numpy as np"
   ]
  },
  {
   "cell_type": "code",
   "execution_count": 15,
   "metadata": {},
   "outputs": [
    {
     "name": "stdout",
     "output_type": "stream",
     "text": [
      "[[   0    0    0    0 6706 6837 4247 9343]\n",
      " [   0    0    0    0 6706 6837 4247 3791]\n",
      " [   0    0    0    0 6706 6544 4247 2300]\n",
      " [   0    0    0 7003  821 2244 2591 9949]\n",
      " [   0    0    0 7003  821 2244 2591 8976]\n",
      " [   0    0    0 4514 6706 4946 4247 1241]\n",
      " [   0    0    0    0 2202 7876 4048 2591]]\n"
     ]
    }
   ],
   "source": [
    "sent_length=8\n",
    "embedded_docs=pad_sequences(one_hot_repr,padding='pre',maxlen=sent_length)\n",
    "print(embedded_docs)"
   ]
  },
  {
   "cell_type": "code",
   "execution_count": 16,
   "metadata": {},
   "outputs": [],
   "source": [
    "## feature representation\n",
    "dim=10"
   ]
  },
  {
   "cell_type": "code",
   "execution_count": 18,
   "metadata": {},
   "outputs": [],
   "source": [
    "model=Sequential()\n",
    "model.add(Embedding(voc_size,dim,input_length=sent_length))\n",
    "model.compile('adam','mse')"
   ]
  },
  {
   "cell_type": "code",
   "execution_count": 19,
   "metadata": {},
   "outputs": [
    {
     "data": {
      "text/html": [
       "<pre style=\"white-space:pre;overflow-x:auto;line-height:normal;font-family:Menlo,'DejaVu Sans Mono',consolas,'Courier New',monospace\"><span style=\"font-weight: bold\">Model: \"sequential_2\"</span>\n",
       "</pre>\n"
      ],
      "text/plain": [
       "\u001b[1mModel: \"sequential_2\"\u001b[0m\n"
      ]
     },
     "metadata": {},
     "output_type": "display_data"
    },
    {
     "data": {
      "text/html": [
       "<pre style=\"white-space:pre;overflow-x:auto;line-height:normal;font-family:Menlo,'DejaVu Sans Mono',consolas,'Courier New',monospace\">┏━━━━━━━━━━━━━━━━━━━━━━━━━━━━━━━━━┳━━━━━━━━━━━━━━━━━━━━━━━━┳━━━━━━━━━━━━━━━┓\n",
       "┃<span style=\"font-weight: bold\"> Layer (type)                    </span>┃<span style=\"font-weight: bold\"> Output Shape           </span>┃<span style=\"font-weight: bold\">       Param # </span>┃\n",
       "┡━━━━━━━━━━━━━━━━━━━━━━━━━━━━━━━━━╇━━━━━━━━━━━━━━━━━━━━━━━━╇━━━━━━━━━━━━━━━┩\n",
       "│ embedding_2 (<span style=\"color: #0087ff; text-decoration-color: #0087ff\">Embedding</span>)         │ ?                      │   <span style=\"color: #00af00; text-decoration-color: #00af00\">0</span> (unbuilt) │\n",
       "└─────────────────────────────────┴────────────────────────┴───────────────┘\n",
       "</pre>\n"
      ],
      "text/plain": [
       "┏━━━━━━━━━━━━━━━━━━━━━━━━━━━━━━━━━┳━━━━━━━━━━━━━━━━━━━━━━━━┳━━━━━━━━━━━━━━━┓\n",
       "┃\u001b[1m \u001b[0m\u001b[1mLayer (type)                   \u001b[0m\u001b[1m \u001b[0m┃\u001b[1m \u001b[0m\u001b[1mOutput Shape          \u001b[0m\u001b[1m \u001b[0m┃\u001b[1m \u001b[0m\u001b[1m      Param #\u001b[0m\u001b[1m \u001b[0m┃\n",
       "┡━━━━━━━━━━━━━━━━━━━━━━━━━━━━━━━━━╇━━━━━━━━━━━━━━━━━━━━━━━━╇━━━━━━━━━━━━━━━┩\n",
       "│ embedding_2 (\u001b[38;5;33mEmbedding\u001b[0m)         │ ?                      │   \u001b[38;5;34m0\u001b[0m (unbuilt) │\n",
       "└─────────────────────────────────┴────────────────────────┴───────────────┘\n"
      ]
     },
     "metadata": {},
     "output_type": "display_data"
    },
    {
     "data": {
      "text/html": [
       "<pre style=\"white-space:pre;overflow-x:auto;line-height:normal;font-family:Menlo,'DejaVu Sans Mono',consolas,'Courier New',monospace\"><span style=\"font-weight: bold\"> Total params: </span><span style=\"color: #00af00; text-decoration-color: #00af00\">0</span> (0.00 B)\n",
       "</pre>\n"
      ],
      "text/plain": [
       "\u001b[1m Total params: \u001b[0m\u001b[38;5;34m0\u001b[0m (0.00 B)\n"
      ]
     },
     "metadata": {},
     "output_type": "display_data"
    },
    {
     "data": {
      "text/html": [
       "<pre style=\"white-space:pre;overflow-x:auto;line-height:normal;font-family:Menlo,'DejaVu Sans Mono',consolas,'Courier New',monospace\"><span style=\"font-weight: bold\"> Trainable params: </span><span style=\"color: #00af00; text-decoration-color: #00af00\">0</span> (0.00 B)\n",
       "</pre>\n"
      ],
      "text/plain": [
       "\u001b[1m Trainable params: \u001b[0m\u001b[38;5;34m0\u001b[0m (0.00 B)\n"
      ]
     },
     "metadata": {},
     "output_type": "display_data"
    },
    {
     "data": {
      "text/html": [
       "<pre style=\"white-space:pre;overflow-x:auto;line-height:normal;font-family:Menlo,'DejaVu Sans Mono',consolas,'Courier New',monospace\"><span style=\"font-weight: bold\"> Non-trainable params: </span><span style=\"color: #00af00; text-decoration-color: #00af00\">0</span> (0.00 B)\n",
       "</pre>\n"
      ],
      "text/plain": [
       "\u001b[1m Non-trainable params: \u001b[0m\u001b[38;5;34m0\u001b[0m (0.00 B)\n"
      ]
     },
     "metadata": {},
     "output_type": "display_data"
    }
   ],
   "source": [
    "model.summary()"
   ]
  },
  {
   "cell_type": "code",
   "execution_count": 20,
   "metadata": {},
   "outputs": [
    {
     "name": "stdout",
     "output_type": "stream",
     "text": [
      "\u001b[1m1/1\u001b[0m \u001b[32m━━━━━━━━━━━━━━━━━━━━\u001b[0m\u001b[37m\u001b[0m \u001b[1m0s\u001b[0m 185ms/step\n"
     ]
    },
    {
     "data": {
      "text/plain": [
       "array([[[-0.01706064,  0.00288226, -0.04962698,  0.03687948,\n",
       "         -0.0126936 , -0.04746411,  0.01501192,  0.02659493,\n",
       "         -0.03345716,  0.03654039],\n",
       "        [-0.01706064,  0.00288226, -0.04962698,  0.03687948,\n",
       "         -0.0126936 , -0.04746411,  0.01501192,  0.02659493,\n",
       "         -0.03345716,  0.03654039],\n",
       "        [-0.01706064,  0.00288226, -0.04962698,  0.03687948,\n",
       "         -0.0126936 , -0.04746411,  0.01501192,  0.02659493,\n",
       "         -0.03345716,  0.03654039],\n",
       "        [-0.01706064,  0.00288226, -0.04962698,  0.03687948,\n",
       "         -0.0126936 , -0.04746411,  0.01501192,  0.02659493,\n",
       "         -0.03345716,  0.03654039],\n",
       "        [-0.03925937, -0.00930564, -0.02986604, -0.03991898,\n",
       "          0.00144903,  0.00055741, -0.02058177, -0.02968436,\n",
       "          0.02047944, -0.01469611],\n",
       "        [-0.01909386,  0.00843726,  0.04962349,  0.04418129,\n",
       "          0.0315775 ,  0.03238178, -0.00030823, -0.0210632 ,\n",
       "          0.01668769, -0.00175703],\n",
       "        [-0.04602379,  0.04310963,  0.04867395, -0.02140627,\n",
       "          0.02926419, -0.02029655,  0.03061445, -0.04251701,\n",
       "          0.04555586,  0.04094595],\n",
       "        [-0.03287888,  0.04301414,  0.02967394, -0.03881677,\n",
       "         -0.04684431,  0.02449283,  0.0002705 , -0.01573727,\n",
       "          0.02525311, -0.00246794]],\n",
       "\n",
       "       [[-0.01706064,  0.00288226, -0.04962698,  0.03687948,\n",
       "         -0.0126936 , -0.04746411,  0.01501192,  0.02659493,\n",
       "         -0.03345716,  0.03654039],\n",
       "        [-0.01706064,  0.00288226, -0.04962698,  0.03687948,\n",
       "         -0.0126936 , -0.04746411,  0.01501192,  0.02659493,\n",
       "         -0.03345716,  0.03654039],\n",
       "        [-0.01706064,  0.00288226, -0.04962698,  0.03687948,\n",
       "         -0.0126936 , -0.04746411,  0.01501192,  0.02659493,\n",
       "         -0.03345716,  0.03654039],\n",
       "        [-0.01706064,  0.00288226, -0.04962698,  0.03687948,\n",
       "         -0.0126936 , -0.04746411,  0.01501192,  0.02659493,\n",
       "         -0.03345716,  0.03654039],\n",
       "        [-0.03925937, -0.00930564, -0.02986604, -0.03991898,\n",
       "          0.00144903,  0.00055741, -0.02058177, -0.02968436,\n",
       "          0.02047944, -0.01469611],\n",
       "        [-0.01909386,  0.00843726,  0.04962349,  0.04418129,\n",
       "          0.0315775 ,  0.03238178, -0.00030823, -0.0210632 ,\n",
       "          0.01668769, -0.00175703],\n",
       "        [-0.04602379,  0.04310963,  0.04867395, -0.02140627,\n",
       "          0.02926419, -0.02029655,  0.03061445, -0.04251701,\n",
       "          0.04555586,  0.04094595],\n",
       "        [-0.04258032,  0.01133227, -0.00631422, -0.01617223,\n",
       "          0.03760867,  0.01350517, -0.00101963, -0.00020381,\n",
       "          0.02945299,  0.04563967]],\n",
       "\n",
       "       [[-0.01706064,  0.00288226, -0.04962698,  0.03687948,\n",
       "         -0.0126936 , -0.04746411,  0.01501192,  0.02659493,\n",
       "         -0.03345716,  0.03654039],\n",
       "        [-0.01706064,  0.00288226, -0.04962698,  0.03687948,\n",
       "         -0.0126936 , -0.04746411,  0.01501192,  0.02659493,\n",
       "         -0.03345716,  0.03654039],\n",
       "        [-0.01706064,  0.00288226, -0.04962698,  0.03687948,\n",
       "         -0.0126936 , -0.04746411,  0.01501192,  0.02659493,\n",
       "         -0.03345716,  0.03654039],\n",
       "        [-0.01706064,  0.00288226, -0.04962698,  0.03687948,\n",
       "         -0.0126936 , -0.04746411,  0.01501192,  0.02659493,\n",
       "         -0.03345716,  0.03654039],\n",
       "        [-0.03925937, -0.00930564, -0.02986604, -0.03991898,\n",
       "          0.00144903,  0.00055741, -0.02058177, -0.02968436,\n",
       "          0.02047944, -0.01469611],\n",
       "        [-0.0478222 , -0.04448101, -0.00823336,  0.04764047,\n",
       "          0.01566968,  0.02034635, -0.01175138, -0.03374235,\n",
       "         -0.02159765, -0.03195305],\n",
       "        [-0.04602379,  0.04310963,  0.04867395, -0.02140627,\n",
       "          0.02926419, -0.02029655,  0.03061445, -0.04251701,\n",
       "          0.04555586,  0.04094595],\n",
       "        [ 0.01553205, -0.04728803,  0.03500701, -0.04764849,\n",
       "          0.00814037, -0.03220022, -0.0261026 , -0.04336239,\n",
       "          0.03352166,  0.0239092 ]],\n",
       "\n",
       "       [[-0.01706064,  0.00288226, -0.04962698,  0.03687948,\n",
       "         -0.0126936 , -0.04746411,  0.01501192,  0.02659493,\n",
       "         -0.03345716,  0.03654039],\n",
       "        [-0.01706064,  0.00288226, -0.04962698,  0.03687948,\n",
       "         -0.0126936 , -0.04746411,  0.01501192,  0.02659493,\n",
       "         -0.03345716,  0.03654039],\n",
       "        [-0.01706064,  0.00288226, -0.04962698,  0.03687948,\n",
       "         -0.0126936 , -0.04746411,  0.01501192,  0.02659493,\n",
       "         -0.03345716,  0.03654039],\n",
       "        [ 0.03047727,  0.03723608,  0.00254508,  0.0059314 ,\n",
       "          0.02638531, -0.04768417,  0.03610485,  0.04379043,\n",
       "         -0.03397574, -0.00371398],\n",
       "        [-0.02762077,  0.04965527,  0.03168752, -0.02819099,\n",
       "          0.03063497,  0.00499813,  0.04434076,  0.0257872 ,\n",
       "          0.0095253 ,  0.02190769],\n",
       "        [-0.03924354,  0.01171565,  0.0065197 ,  0.01260687,\n",
       "          0.00286369,  0.01657126, -0.04573423, -0.04127049,\n",
       "         -0.04634685, -0.01447166],\n",
       "        [-0.04914616, -0.01311189,  0.02645839, -0.03759053,\n",
       "         -0.00130963, -0.01352752, -0.02533591,  0.00764745,\n",
       "         -0.0022306 , -0.0311721 ],\n",
       "        [-0.04500569, -0.01973457,  0.02085637, -0.02710469,\n",
       "         -0.02502745, -0.01378749,  0.00168234, -0.02808056,\n",
       "         -0.00273042, -0.00166124]],\n",
       "\n",
       "       [[-0.01706064,  0.00288226, -0.04962698,  0.03687948,\n",
       "         -0.0126936 , -0.04746411,  0.01501192,  0.02659493,\n",
       "         -0.03345716,  0.03654039],\n",
       "        [-0.01706064,  0.00288226, -0.04962698,  0.03687948,\n",
       "         -0.0126936 , -0.04746411,  0.01501192,  0.02659493,\n",
       "         -0.03345716,  0.03654039],\n",
       "        [-0.01706064,  0.00288226, -0.04962698,  0.03687948,\n",
       "         -0.0126936 , -0.04746411,  0.01501192,  0.02659493,\n",
       "         -0.03345716,  0.03654039],\n",
       "        [ 0.03047727,  0.03723608,  0.00254508,  0.0059314 ,\n",
       "          0.02638531, -0.04768417,  0.03610485,  0.04379043,\n",
       "         -0.03397574, -0.00371398],\n",
       "        [-0.02762077,  0.04965527,  0.03168752, -0.02819099,\n",
       "          0.03063497,  0.00499813,  0.04434076,  0.0257872 ,\n",
       "          0.0095253 ,  0.02190769],\n",
       "        [-0.03924354,  0.01171565,  0.0065197 ,  0.01260687,\n",
       "          0.00286369,  0.01657126, -0.04573423, -0.04127049,\n",
       "         -0.04634685, -0.01447166],\n",
       "        [-0.04914616, -0.01311189,  0.02645839, -0.03759053,\n",
       "         -0.00130963, -0.01352752, -0.02533591,  0.00764745,\n",
       "         -0.0022306 , -0.0311721 ],\n",
       "        [-0.02723387, -0.0262561 , -0.00501759,  0.03519532,\n",
       "          0.02588203, -0.00954609,  0.0066916 , -0.04632074,\n",
       "          0.01444241, -0.04131142]],\n",
       "\n",
       "       [[-0.01706064,  0.00288226, -0.04962698,  0.03687948,\n",
       "         -0.0126936 , -0.04746411,  0.01501192,  0.02659493,\n",
       "         -0.03345716,  0.03654039],\n",
       "        [-0.01706064,  0.00288226, -0.04962698,  0.03687948,\n",
       "         -0.0126936 , -0.04746411,  0.01501192,  0.02659493,\n",
       "         -0.03345716,  0.03654039],\n",
       "        [-0.01706064,  0.00288226, -0.04962698,  0.03687948,\n",
       "         -0.0126936 , -0.04746411,  0.01501192,  0.02659493,\n",
       "         -0.03345716,  0.03654039],\n",
       "        [-0.00718088,  0.04293572,  0.02619997, -0.04735244,\n",
       "         -0.00437971, -0.03672911,  0.02415678, -0.024079  ,\n",
       "         -0.02602322, -0.03573023],\n",
       "        [-0.03925937, -0.00930564, -0.02986604, -0.03991898,\n",
       "          0.00144903,  0.00055741, -0.02058177, -0.02968436,\n",
       "          0.02047944, -0.01469611],\n",
       "        [-0.01959856, -0.02562404,  0.02136959,  0.04499377,\n",
       "          0.03695286, -0.00643866,  0.01512926,  0.04169578,\n",
       "         -0.03538384, -0.0306857 ],\n",
       "        [-0.04602379,  0.04310963,  0.04867395, -0.02140627,\n",
       "          0.02926419, -0.02029655,  0.03061445, -0.04251701,\n",
       "          0.04555586,  0.04094595],\n",
       "        [ 0.01707223,  0.03008625,  0.01047481,  0.03004355,\n",
       "         -0.04689337, -0.00199826, -0.02168831, -0.04669162,\n",
       "          0.01216716, -0.04855493]],\n",
       "\n",
       "       [[-0.01706064,  0.00288226, -0.04962698,  0.03687948,\n",
       "         -0.0126936 , -0.04746411,  0.01501192,  0.02659493,\n",
       "         -0.03345716,  0.03654039],\n",
       "        [-0.01706064,  0.00288226, -0.04962698,  0.03687948,\n",
       "         -0.0126936 , -0.04746411,  0.01501192,  0.02659493,\n",
       "         -0.03345716,  0.03654039],\n",
       "        [-0.01706064,  0.00288226, -0.04962698,  0.03687948,\n",
       "         -0.0126936 , -0.04746411,  0.01501192,  0.02659493,\n",
       "         -0.03345716,  0.03654039],\n",
       "        [-0.01706064,  0.00288226, -0.04962698,  0.03687948,\n",
       "         -0.0126936 , -0.04746411,  0.01501192,  0.02659493,\n",
       "         -0.03345716,  0.03654039],\n",
       "        [ 0.02392456,  0.04204203,  0.00304902,  0.04113017,\n",
       "          0.04258522, -0.02270912, -0.02284323, -0.01257663,\n",
       "         -0.03968834,  0.04288373],\n",
       "        [-0.02105944,  0.02486056, -0.01585035, -0.04588653,\n",
       "         -0.03227966,  0.00424116,  0.01924802,  0.03755062,\n",
       "          0.03757579,  0.03213711],\n",
       "        [-0.00339043, -0.0263832 ,  0.04711739, -0.02368933,\n",
       "         -0.02421701, -0.02890041, -0.00888585, -0.04816691,\n",
       "          0.0103059 , -0.00361226],\n",
       "        [-0.04914616, -0.01311189,  0.02645839, -0.03759053,\n",
       "         -0.00130963, -0.01352752, -0.02533591,  0.00764745,\n",
       "         -0.0022306 , -0.0311721 ]]], dtype=float32)"
      ]
     },
     "execution_count": 20,
     "metadata": {},
     "output_type": "execute_result"
    }
   ],
   "source": [
    "model.predict(embedded_docs)"
   ]
  },
  {
   "cell_type": "code",
   "execution_count": 23,
   "metadata": {},
   "outputs": [
    {
     "data": {
      "text/plain": [
       "array([   0,    0,    0,    0, 6706, 6837, 4247, 9343], dtype=int32)"
      ]
     },
     "execution_count": 23,
     "metadata": {},
     "output_type": "execute_result"
    }
   ],
   "source": [
    "embedded_docs[0]"
   ]
  },
  {
   "cell_type": "code",
   "execution_count": 28,
   "metadata": {},
   "outputs": [],
   "source": [
    "# model.predict(embedded_docs[0][0])"
   ]
  },
  {
   "cell_type": "code",
   "execution_count": null,
   "metadata": {},
   "outputs": [],
   "source": []
  }
 ],
 "metadata": {
  "kernelspec": {
   "display_name": "rnn_venv",
   "language": "python",
   "name": "python3"
  },
  "language_info": {
   "codemirror_mode": {
    "name": "ipython",
    "version": 3
   },
   "file_extension": ".py",
   "mimetype": "text/x-python",
   "name": "python",
   "nbconvert_exporter": "python",
   "pygments_lexer": "ipython3",
   "version": "3.12.0"
  }
 },
 "nbformat": 4,
 "nbformat_minor": 2
}
