{
 "cells": [
  {
   "cell_type": "code",
   "execution_count": 1,
   "metadata": {},
   "outputs": [
    {
     "name": "stderr",
     "output_type": "stream",
     "text": [
      "2024-12-18 15:05:11.101062: I tensorflow/core/util/port.cc:153] oneDNN custom operations are on. You may see slightly different numerical results due to floating-point round-off errors from different computation orders. To turn them off, set the environment variable `TF_ENABLE_ONEDNN_OPTS=0`.\n",
      "2024-12-18 15:05:11.102816: I external/local_xla/xla/tsl/cuda/cudart_stub.cc:32] Could not find cuda drivers on your machine, GPU will not be used.\n",
      "2024-12-18 15:05:11.106711: I external/local_xla/xla/tsl/cuda/cudart_stub.cc:32] Could not find cuda drivers on your machine, GPU will not be used.\n",
      "2024-12-18 15:05:11.115541: E external/local_xla/xla/stream_executor/cuda/cuda_fft.cc:477] Unable to register cuFFT factory: Attempting to register factory for plugin cuFFT when one has already been registered\n",
      "WARNING: All log messages before absl::InitializeLog() is called are written to STDERR\n",
      "E0000 00:00:1734514511.129245   34417 cuda_dnn.cc:8310] Unable to register cuDNN factory: Attempting to register factory for plugin cuDNN when one has already been registered\n",
      "E0000 00:00:1734514511.133442   34417 cuda_blas.cc:1418] Unable to register cuBLAS factory: Attempting to register factory for plugin cuBLAS when one has already been registered\n",
      "2024-12-18 15:05:11.149551: I tensorflow/core/platform/cpu_feature_guard.cc:210] This TensorFlow binary is optimized to use available CPU instructions in performance-critical operations.\n",
      "To enable the following instructions: AVX2 AVX512F AVX512_VNNI FMA, in other operations, rebuild TensorFlow with the appropriate compiler flags.\n"
     ]
    }
   ],
   "source": [
    "# Step 1: Import Libraries and Load the Model\n",
    "import numpy as np\n",
    "import tensorflow as tf\n",
    "from tensorflow.keras.datasets import imdb\n",
    "from tensorflow.keras.preprocessing import sequence\n",
    "from tensorflow.keras.models import load_model"
   ]
  },
  {
   "cell_type": "code",
   "execution_count": 2,
   "metadata": {},
   "outputs": [],
   "source": [
    "\n",
    "# Load the IMDB dataset word index\n",
    "word_index = imdb.get_word_index()\n",
    "reverse_word_index = {value: key for key, value in word_index.items()}"
   ]
  },
  {
   "cell_type": "code",
   "execution_count": 3,
   "metadata": {},
   "outputs": [
    {
     "name": "stderr",
     "output_type": "stream",
     "text": [
      "2024-12-18 15:05:20.392877: E external/local_xla/xla/stream_executor/cuda/cuda_driver.cc:152] failed call to cuInit: INTERNAL: CUDA error: Failed call to cuInit: UNKNOWN ERROR (303)\n",
      "WARNING:absl:Compiled the loaded model, but the compiled metrics have yet to be built. `model.compile_metrics` will be empty until you train or evaluate the model.\n"
     ]
    },
    {
     "data": {
      "text/html": [
       "<pre style=\"white-space:pre;overflow-x:auto;line-height:normal;font-family:Menlo,'DejaVu Sans Mono',consolas,'Courier New',monospace\"><span style=\"font-weight: bold\">Model: \"sequential\"</span>\n",
       "</pre>\n"
      ],
      "text/plain": [
       "\u001b[1mModel: \"sequential\"\u001b[0m\n"
      ]
     },
     "metadata": {},
     "output_type": "display_data"
    },
    {
     "data": {
      "text/html": [
       "<pre style=\"white-space:pre;overflow-x:auto;line-height:normal;font-family:Menlo,'DejaVu Sans Mono',consolas,'Courier New',monospace\">┏━━━━━━━━━━━━━━━━━━━━━━━━━━━━━━━━━┳━━━━━━━━━━━━━━━━━━━━━━━━┳━━━━━━━━━━━━━━━┓\n",
       "┃<span style=\"font-weight: bold\"> Layer (type)                    </span>┃<span style=\"font-weight: bold\"> Output Shape           </span>┃<span style=\"font-weight: bold\">       Param # </span>┃\n",
       "┡━━━━━━━━━━━━━━━━━━━━━━━━━━━━━━━━━╇━━━━━━━━━━━━━━━━━━━━━━━━╇━━━━━━━━━━━━━━━┩\n",
       "│ embedding (<span style=\"color: #0087ff; text-decoration-color: #0087ff\">Embedding</span>)           │ (<span style=\"color: #00af00; text-decoration-color: #00af00\">32</span>, <span style=\"color: #00af00; text-decoration-color: #00af00\">500</span>, <span style=\"color: #00af00; text-decoration-color: #00af00\">128</span>)         │     <span style=\"color: #00af00; text-decoration-color: #00af00\">1,280,000</span> │\n",
       "├─────────────────────────────────┼────────────────────────┼───────────────┤\n",
       "│ simple_rnn (<span style=\"color: #0087ff; text-decoration-color: #0087ff\">SimpleRNN</span>)          │ (<span style=\"color: #00af00; text-decoration-color: #00af00\">32</span>, <span style=\"color: #00af00; text-decoration-color: #00af00\">128</span>)              │        <span style=\"color: #00af00; text-decoration-color: #00af00\">32,896</span> │\n",
       "├─────────────────────────────────┼────────────────────────┼───────────────┤\n",
       "│ dense (<span style=\"color: #0087ff; text-decoration-color: #0087ff\">Dense</span>)                   │ (<span style=\"color: #00af00; text-decoration-color: #00af00\">32</span>, <span style=\"color: #00af00; text-decoration-color: #00af00\">1</span>)                │           <span style=\"color: #00af00; text-decoration-color: #00af00\">129</span> │\n",
       "└─────────────────────────────────┴────────────────────────┴───────────────┘\n",
       "</pre>\n"
      ],
      "text/plain": [
       "┏━━━━━━━━━━━━━━━━━━━━━━━━━━━━━━━━━┳━━━━━━━━━━━━━━━━━━━━━━━━┳━━━━━━━━━━━━━━━┓\n",
       "┃\u001b[1m \u001b[0m\u001b[1mLayer (type)                   \u001b[0m\u001b[1m \u001b[0m┃\u001b[1m \u001b[0m\u001b[1mOutput Shape          \u001b[0m\u001b[1m \u001b[0m┃\u001b[1m \u001b[0m\u001b[1m      Param #\u001b[0m\u001b[1m \u001b[0m┃\n",
       "┡━━━━━━━━━━━━━━━━━━━━━━━━━━━━━━━━━╇━━━━━━━━━━━━━━━━━━━━━━━━╇━━━━━━━━━━━━━━━┩\n",
       "│ embedding (\u001b[38;5;33mEmbedding\u001b[0m)           │ (\u001b[38;5;34m32\u001b[0m, \u001b[38;5;34m500\u001b[0m, \u001b[38;5;34m128\u001b[0m)         │     \u001b[38;5;34m1,280,000\u001b[0m │\n",
       "├─────────────────────────────────┼────────────────────────┼───────────────┤\n",
       "│ simple_rnn (\u001b[38;5;33mSimpleRNN\u001b[0m)          │ (\u001b[38;5;34m32\u001b[0m, \u001b[38;5;34m128\u001b[0m)              │        \u001b[38;5;34m32,896\u001b[0m │\n",
       "├─────────────────────────────────┼────────────────────────┼───────────────┤\n",
       "│ dense (\u001b[38;5;33mDense\u001b[0m)                   │ (\u001b[38;5;34m32\u001b[0m, \u001b[38;5;34m1\u001b[0m)                │           \u001b[38;5;34m129\u001b[0m │\n",
       "└─────────────────────────────────┴────────────────────────┴───────────────┘\n"
      ]
     },
     "metadata": {},
     "output_type": "display_data"
    },
    {
     "data": {
      "text/html": [
       "<pre style=\"white-space:pre;overflow-x:auto;line-height:normal;font-family:Menlo,'DejaVu Sans Mono',consolas,'Courier New',monospace\"><span style=\"font-weight: bold\"> Total params: </span><span style=\"color: #00af00; text-decoration-color: #00af00\">1,313,027</span> (5.01 MB)\n",
       "</pre>\n"
      ],
      "text/plain": [
       "\u001b[1m Total params: \u001b[0m\u001b[38;5;34m1,313,027\u001b[0m (5.01 MB)\n"
      ]
     },
     "metadata": {},
     "output_type": "display_data"
    },
    {
     "data": {
      "text/html": [
       "<pre style=\"white-space:pre;overflow-x:auto;line-height:normal;font-family:Menlo,'DejaVu Sans Mono',consolas,'Courier New',monospace\"><span style=\"font-weight: bold\"> Trainable params: </span><span style=\"color: #00af00; text-decoration-color: #00af00\">1,313,025</span> (5.01 MB)\n",
       "</pre>\n"
      ],
      "text/plain": [
       "\u001b[1m Trainable params: \u001b[0m\u001b[38;5;34m1,313,025\u001b[0m (5.01 MB)\n"
      ]
     },
     "metadata": {},
     "output_type": "display_data"
    },
    {
     "data": {
      "text/html": [
       "<pre style=\"white-space:pre;overflow-x:auto;line-height:normal;font-family:Menlo,'DejaVu Sans Mono',consolas,'Courier New',monospace\"><span style=\"font-weight: bold\"> Non-trainable params: </span><span style=\"color: #00af00; text-decoration-color: #00af00\">0</span> (0.00 B)\n",
       "</pre>\n"
      ],
      "text/plain": [
       "\u001b[1m Non-trainable params: \u001b[0m\u001b[38;5;34m0\u001b[0m (0.00 B)\n"
      ]
     },
     "metadata": {},
     "output_type": "display_data"
    },
    {
     "data": {
      "text/html": [
       "<pre style=\"white-space:pre;overflow-x:auto;line-height:normal;font-family:Menlo,'DejaVu Sans Mono',consolas,'Courier New',monospace\"><span style=\"font-weight: bold\"> Optimizer params: </span><span style=\"color: #00af00; text-decoration-color: #00af00\">2</span> (12.00 B)\n",
       "</pre>\n"
      ],
      "text/plain": [
       "\u001b[1m Optimizer params: \u001b[0m\u001b[38;5;34m2\u001b[0m (12.00 B)\n"
      ]
     },
     "metadata": {},
     "output_type": "display_data"
    }
   ],
   "source": [
    "# Load the pre-trained model with ReLU activation\n",
    "model = load_model('simple_rnn_imdb.h5')\n",
    "model.summary()"
   ]
  },
  {
   "cell_type": "code",
   "execution_count": 4,
   "metadata": {},
   "outputs": [
    {
     "data": {
      "text/plain": [
       "[array([[ 0.01564881, -0.11517019,  0.30439028, ...,  0.09698686,\n",
       "          0.08989204,  0.2866908 ],\n",
       "        [ 0.02299694, -0.0904925 , -0.04390114, ..., -0.01981393,\n",
       "         -0.06709466,  0.08445115],\n",
       "        [ 0.03765162, -0.04664994,  0.06715448, ...,  0.15465927,\n",
       "         -0.01232819,  0.11035359],\n",
       "        ...,\n",
       "        [-0.06185323,  0.06206423, -0.05621757, ..., -0.04184007,\n",
       "          0.07623801, -0.05058922],\n",
       "        [-0.04941412, -0.02982937,  0.11883882, ...,  0.10478947,\n",
       "         -0.16849993, -0.04818197],\n",
       "        [-0.01567386, -0.00231051, -0.06770559, ..., -0.1422655 ,\n",
       "         -0.01015439,  0.05344408]], dtype=float32),\n",
       " array([[ 0.10121457, -0.0824117 ,  0.13565733, ...,  0.1166534 ,\n",
       "         -0.08675916,  0.09966555],\n",
       "        [-0.00794184,  0.05042487,  0.03920237, ..., -0.0709834 ,\n",
       "          0.06616364,  0.1168943 ],\n",
       "        [ 0.01719473,  0.07835694, -0.10866591, ...,  0.10520338,\n",
       "          0.09597208,  0.1137967 ],\n",
       "        ...,\n",
       "        [-0.20944399,  0.0692967 ,  0.07007055, ..., -0.08690893,\n",
       "          0.05445606, -0.08655635],\n",
       "        [-0.01488529, -0.03314061,  0.08210725, ...,  0.17535618,\n",
       "          0.06483924,  0.11082647],\n",
       "        [-0.11725064,  0.0350836 , -0.04822013, ..., -0.16249627,\n",
       "          0.08554964,  0.01890497]], dtype=float32),\n",
       " array([[-0.0524183 , -0.02865155, -0.05015839, ...,  0.09317013,\n",
       "         -0.02047234, -0.03866883],\n",
       "        [-0.02879624, -0.05814388,  0.04110259, ...,  0.1737219 ,\n",
       "          0.0609154 , -0.0867487 ],\n",
       "        [-0.10956848, -0.05092236, -0.0107704 , ...,  0.00880209,\n",
       "         -0.1800654 , -0.06028013],\n",
       "        ...,\n",
       "        [-0.02827094, -0.23591171, -0.02548484, ..., -0.0771463 ,\n",
       "          0.07237172,  0.02425148],\n",
       "        [ 0.05744561, -0.10207997, -0.10531706, ..., -0.07320946,\n",
       "         -0.10473292, -0.08589073],\n",
       "        [-0.02651821, -0.08035064, -0.08172146, ..., -0.02924056,\n",
       "         -0.01230466,  0.05067912]], dtype=float32),\n",
       " array([-0.00599442, -0.05680048, -0.03297663,  0.00936219, -0.00773606,\n",
       "         0.02411466, -0.01855054, -0.01163059, -0.02604811, -0.01759629,\n",
       "        -0.06890405,  0.00964842,  0.03716122, -0.05381891,  0.00802306,\n",
       "        -0.05537519,  0.02519912, -0.03706701, -0.02695877, -0.03209771,\n",
       "        -0.04024693, -0.04124549,  0.04484619,  0.01269689,  0.01203285,\n",
       "        -0.03163544, -0.02860579, -0.01768706,  0.01842878, -0.00543851,\n",
       "        -0.0185691 , -0.0289191 ,  0.01700363,  0.01898597,  0.01718825,\n",
       "        -0.03116602,  0.01295324,  0.00671997,  0.08271588, -0.04885663,\n",
       "        -0.09818966, -0.03813868, -0.02589363,  0.04599392, -0.02348824,\n",
       "        -0.0333772 , -0.03597026, -0.02308021, -0.03851381, -0.03644031,\n",
       "        -0.03252029,  0.00788909, -0.0403597 ,  0.04009368, -0.02419049,\n",
       "        -0.02284677, -0.03299853,  0.01048548, -0.01026279,  0.01111721,\n",
       "        -0.04208354,  0.07657998, -0.02305077,  0.00845884, -0.03679935,\n",
       "         0.0256039 , -0.01541698, -0.03904555,  0.00757263,  0.00210171,\n",
       "        -0.06590069, -0.00415834, -0.00798974, -0.02405279,  0.00126733,\n",
       "        -0.00393337, -0.01953237,  0.03781131, -0.04127239, -0.04770066,\n",
       "         0.04491153, -0.05312881,  0.00923357,  0.03635212,  0.00608308,\n",
       "        -0.0628526 ,  0.05223789, -0.02985115, -0.04265997, -0.0042262 ,\n",
       "        -0.04711869, -0.0166164 , -0.00338477, -0.03327439, -0.02530359,\n",
       "        -0.02089643,  0.02124684,  0.05075733, -0.04167029, -0.0465754 ,\n",
       "         0.02957295, -0.00684354, -0.03880263, -0.04131228,  0.01847872,\n",
       "        -0.01558976, -0.07916488, -0.01839413, -0.04396087, -0.03957162,\n",
       "        -0.02092454, -0.05000739, -0.00183594, -0.04496832, -0.02485454,\n",
       "         0.00079732, -0.05629341,  0.01603239, -0.02078912,  0.02135267,\n",
       "        -0.03978533,  0.00609842, -0.04218895, -0.05349796, -0.00930617,\n",
       "        -0.01450258, -0.08347151, -0.026707  ], dtype=float32),\n",
       " array([[ 0.18102664],\n",
       "        [-0.12541759],\n",
       "        [-0.16591987],\n",
       "        [-0.0141547 ],\n",
       "        [ 0.2722183 ],\n",
       "        [ 0.22482736],\n",
       "        [ 0.03361321],\n",
       "        [-0.21767025],\n",
       "        [-0.06663092],\n",
       "        [-0.0169946 ],\n",
       "        [ 0.2566953 ],\n",
       "        [ 0.32222757],\n",
       "        [ 0.4232065 ],\n",
       "        [-0.2374176 ],\n",
       "        [-0.22750877],\n",
       "        [-0.2246188 ],\n",
       "        [ 0.18896572],\n",
       "        [-0.03647394],\n",
       "        [ 0.24533616],\n",
       "        [-0.13586438],\n",
       "        [ 0.05578442],\n",
       "        [ 0.15360595],\n",
       "        [ 0.06581983],\n",
       "        [-0.23721187],\n",
       "        [ 0.04376005],\n",
       "        [ 0.15965065],\n",
       "        [ 0.01884979],\n",
       "        [-0.17266087],\n",
       "        [-0.04809651],\n",
       "        [ 0.02255617],\n",
       "        [-0.00476112],\n",
       "        [-0.04744333],\n",
       "        [ 0.18052152],\n",
       "        [-0.10348205],\n",
       "        [ 0.03552216],\n",
       "        [ 0.03102714],\n",
       "        [-0.0598656 ],\n",
       "        [ 0.83084774],\n",
       "        [-0.28467298],\n",
       "        [-0.01726966],\n",
       "        [ 0.19500199],\n",
       "        [-1.0830184 ],\n",
       "        [ 0.16236512],\n",
       "        [-0.16248702],\n",
       "        [-0.14601162],\n",
       "        [-0.10320956],\n",
       "        [ 0.07537538],\n",
       "        [ 0.0501929 ],\n",
       "        [ 0.30577627],\n",
       "        [-0.12506782],\n",
       "        [-0.28345475],\n",
       "        [ 0.11817743],\n",
       "        [ 0.02940769],\n",
       "        [ 0.16921072],\n",
       "        [ 0.08610615],\n",
       "        [-0.08387004],\n",
       "        [ 0.1867829 ],\n",
       "        [ 0.18201143],\n",
       "        [-0.09916792],\n",
       "        [-0.09374052],\n",
       "        [ 0.05413219],\n",
       "        [ 0.01526208],\n",
       "        [-0.20969653],\n",
       "        [-0.16734491],\n",
       "        [ 0.18301836],\n",
       "        [-0.29405048],\n",
       "        [ 0.06609009],\n",
       "        [ 0.01513228],\n",
       "        [ 0.08291358],\n",
       "        [ 0.02317959],\n",
       "        [ 0.17418417],\n",
       "        [-0.11135672],\n",
       "        [ 0.14847556],\n",
       "        [ 0.06694109],\n",
       "        [ 0.13553531],\n",
       "        [ 0.04877493],\n",
       "        [-0.28838113],\n",
       "        [ 0.18187208],\n",
       "        [ 0.13807225],\n",
       "        [ 0.08137369],\n",
       "        [-0.09039324],\n",
       "        [ 0.3354607 ],\n",
       "        [-0.26441926],\n",
       "        [-0.24856378],\n",
       "        [ 0.12766957],\n",
       "        [-0.17534798],\n",
       "        [ 0.14810225],\n",
       "        [-0.11781273],\n",
       "        [-0.10382159],\n",
       "        [ 0.06916705],\n",
       "        [-0.19925435],\n",
       "        [-0.18581651],\n",
       "        [ 0.15397844],\n",
       "        [ 0.06425688],\n",
       "        [ 0.07223056],\n",
       "        [-0.10709447],\n",
       "        [ 0.3445822 ],\n",
       "        [-0.30137023],\n",
       "        [ 0.14029   ],\n",
       "        [ 0.14672132],\n",
       "        [-0.4754014 ],\n",
       "        [ 0.09425928],\n",
       "        [ 0.0973115 ],\n",
       "        [ 0.22504096],\n",
       "        [ 0.3031117 ],\n",
       "        [-0.17363526],\n",
       "        [ 0.00238373],\n",
       "        [-0.03937821],\n",
       "        [-0.33496383],\n",
       "        [ 0.06185981],\n",
       "        [-0.15997732],\n",
       "        [ 0.1532413 ],\n",
       "        [ 0.04698936],\n",
       "        [ 0.23835236],\n",
       "        [-0.2202087 ],\n",
       "        [ 0.11611344],\n",
       "        [ 0.57252204],\n",
       "        [ 0.06563827],\n",
       "        [ 0.130041  ],\n",
       "        [ 0.11855129],\n",
       "        [-0.27848166],\n",
       "        [ 0.09619745],\n",
       "        [ 0.1246687 ],\n",
       "        [-0.63190913],\n",
       "        [ 0.13564621],\n",
       "        [-0.22854388],\n",
       "        [ 0.1282344 ],\n",
       "        [ 0.15300645]], dtype=float32),\n",
       " array([0.94533473], dtype=float32)]"
      ]
     },
     "execution_count": 4,
     "metadata": {},
     "output_type": "execute_result"
    }
   ],
   "source": [
    "model.get_weights()"
   ]
  },
  {
   "cell_type": "code",
   "execution_count": 6,
   "metadata": {},
   "outputs": [],
   "source": [
    "# Step 2: Helper Functions\n",
    "# Function to decode reviews\n",
    "def decode_review(encoded_review):\n",
    "    return ' '.join([reverse_word_index.get(i - 3, '?') for i in encoded_review])\n",
    "\n",
    "# Function to preprocess user input\n",
    "def preprocess_text(text):\n",
    "    words = text.lower().split()\n",
    "    encoded_review = [word_index.get(word, 2) + 3 for word in words]\n",
    "    padded_review = sequence.pad_sequences([encoded_review], maxlen=500)\n",
    "    return padded_review"
   ]
  },
  {
   "cell_type": "code",
   "execution_count": 7,
   "metadata": {},
   "outputs": [],
   "source": [
    "### Prediction  function\n",
    "\n",
    "def predict_sentiment(review):\n",
    "    preprocessed_input=preprocess_text(review)\n",
    "\n",
    "    prediction=model.predict(preprocessed_input)\n",
    "\n",
    "    sentiment = 'Positive' if prediction[0][0] > 0.5 else 'Negative'\n",
    "    \n",
    "    return sentiment, prediction[0][0]\n",
    "\n"
   ]
  },
  {
   "cell_type": "code",
   "execution_count": 8,
   "metadata": {},
   "outputs": [
    {
     "name": "stdout",
     "output_type": "stream",
     "text": [
      "\u001b[1m1/1\u001b[0m \u001b[32m━━━━━━━━━━━━━━━━━━━━\u001b[0m\u001b[37m\u001b[0m \u001b[1m0s\u001b[0m 221ms/step\n",
      "Review: This movie was fantastic! The acting was great and the plot was thrilling.\n",
      "Sentiment: Positive\n",
      "Prediction Score: 0.9616719484329224\n"
     ]
    }
   ],
   "source": [
    "# Step 4: User Input and Prediction\n",
    "# Example review for prediction\n",
    "example_review = \"This movie was fantastic! The acting was great and the plot was thrilling.\"\n",
    "\n",
    "sentiment,score=predict_sentiment(example_review)\n",
    "\n",
    "print(f'Review: {example_review}')\n",
    "print(f'Sentiment: {sentiment}')\n",
    "print(f'Prediction Score: {score}')"
   ]
  },
  {
   "cell_type": "code",
   "execution_count": null,
   "metadata": {},
   "outputs": [],
   "source": []
  },
  {
   "cell_type": "code",
   "execution_count": null,
   "metadata": {},
   "outputs": [],
   "source": []
  },
  {
   "cell_type": "code",
   "execution_count": null,
   "metadata": {},
   "outputs": [],
   "source": []
  },
  {
   "cell_type": "code",
   "execution_count": null,
   "metadata": {},
   "outputs": [],
   "source": []
  }
 ],
 "metadata": {
  "kernelspec": {
   "display_name": "rnn_venv",
   "language": "python",
   "name": "python3"
  },
  "language_info": {
   "codemirror_mode": {
    "name": "ipython",
    "version": 3
   },
   "file_extension": ".py",
   "mimetype": "text/x-python",
   "name": "python",
   "nbconvert_exporter": "python",
   "pygments_lexer": "ipython3",
   "version": "3.12.0"
  }
 },
 "nbformat": 4,
 "nbformat_minor": 2
}
